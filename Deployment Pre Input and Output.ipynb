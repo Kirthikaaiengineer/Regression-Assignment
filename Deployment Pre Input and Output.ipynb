{
 "cells": [
  {
   "cell_type": "code",
   "execution_count": 2,
   "id": "7c3e0c7a-01e6-478a-ad98-c525a1fc85ff",
   "metadata": {},
   "outputs": [],
   "source": [
    "import pandas as pd\n",
    "dataset= pd.read_csv(\"50_Startups (1).csv\")\n",
    "dataset=pd.get_dummies(dataset,dtype=int,drop_first=True)\n",
    "independent=dataset[['R&D Spend', 'Administration', 'Marketing Spend' ,'State_Florida', 'State_New York']]\n",
    "dependent=dataset[['Profit']]\n",
    "from sklearn.model_selection import train_test_split\n",
    "x_train, x_test, y_train,y_test=train_test_split(independent,dependent,test_size=0.30,random_state=0)\n",
    "from sklearn.preprocessing import StandardScaler\n",
    "sc= StandardScaler()\n",
    "x_train = sc.fit_transform(x_train)\n",
    "x_test= sc.transform(x_test)\n",
    "scy= StandardScaler()\n",
    "y_train = scy.fit_transform(y_train)\n",
    "y_test= scy.transform(y_test)"
   ]
  },
  {
   "cell_type": "code",
   "execution_count": 3,
   "id": "008bde99-22d4-4c8c-8a6d-908456aeb752",
   "metadata": {},
   "outputs": [
    {
     "name": "stderr",
     "output_type": "stream",
     "text": [
      "C:\\Users\\jsapt\\anaconda3\\Lib\\site-packages\\sklearn\\base.py:493: UserWarning: X does not have valid feature names, but StandardScaler was fitted with feature names\n",
      "  warnings.warn(\n"
     ]
    },
    {
     "data": {
      "text/plain": [
       "array([[83817.16965288]])"
      ]
     },
     "execution_count": 3,
     "metadata": {},
     "output_type": "execute_result"
    }
   ],
   "source": [
    "import pickle\n",
    "preinput=sc.transform([[1300,12000,4000,0,1]])\n",
    "loaded_model=pickle.load(open(\"finalized_SVM_Model.sav\",'rb'))\n",
    "result=loaded_model.predict(preinput)\n",
    "preoutput=scy.inverse_transform([result])\n",
    "preoutput"
   ]
  },
  {
   "cell_type": "code",
   "execution_count": null,
   "id": "bf3e8ea2-284f-49fa-b679-3a01e2045c25",
   "metadata": {},
   "outputs": [],
   "source": []
  }
 ],
 "metadata": {
  "kernelspec": {
   "display_name": "Python 3 (ipykernel)",
   "language": "python",
   "name": "python3"
  },
  "language_info": {
   "codemirror_mode": {
    "name": "ipython",
    "version": 3
   },
   "file_extension": ".py",
   "mimetype": "text/x-python",
   "name": "python",
   "nbconvert_exporter": "python",
   "pygments_lexer": "ipython3",
   "version": "3.12.7"
  }
 },
 "nbformat": 4,
 "nbformat_minor": 5
}
